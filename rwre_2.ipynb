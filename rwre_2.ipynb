{
 "cells": [
  {
   "cell_type": "markdown",
   "id": "40dfbcd6",
   "metadata": {},
   "source": [
    "# title\n",
    "\n",
    "blablabla\n",
    "\n",
    "$$\\int_{-\\infty}^{+\\infty} e^x dx$$"
   ]
  },
  {
   "cell_type": "code",
   "execution_count": 1,
   "id": "1dc53c37",
   "metadata": {},
   "outputs": [
    {
     "name": "stdout",
     "output_type": "stream",
     "text": [
      "[0 1 2 7 9]\n",
      "[6 8]\n"
     ]
    }
   ],
   "source": [
    "import random\n",
    "import numpy as np\n",
    "import matplotlib.pyplot as plt\n",
    "import time\n",
    "from tqdm import tqdm\n",
    "from scipy.stats import bernoulli\n",
    "\n",
    "def space_env(L , mu=0.5):\n",
    "    total_space = np.arange(L)\n",
    "    space = np.random.choice(total_space, int(L*mu), replace=False)  # choose L/2 of the bins to contain a particle\n",
    "    return(np.sort(space))                                           # return the index of the particles sorted\n",
    "\n",
    "# example of use\n",
    "\n",
    "# defining parameters\n",
    "L = 10      # number of size space simulated\n",
    "\n",
    "test = space_env(L)\n",
    "print(test)\n",
    "mu = 0.2\n",
    "test2 = space_env(L,mu)\n",
    "print(test2)"
   ]
  },
  {
   "cell_type": "code",
   "execution_count": 3,
   "id": "30db5da2",
   "metadata": {},
   "outputs": [
    {
     "name": "stdout",
     "output_type": "stream",
     "text": [
      "particles steps [7 6]\n",
      "[1 1 3 3 2 3 3 2 1 3 1 2 2]\n",
      "[-1  1 -1 -1 -1  1  1 -1  1 -1 -1 -1 -1]\n",
      "[1 1 3 3 2 4 5 2 1 3 1 4 5]\n",
      "[-1  1 -1 -1 -1 -1  1 -1  1 -1 -1 -1  1]\n"
     ]
    }
   ],
   "source": [
    "\n",
    "def moves(space,s,left_drift=1/3, right_drift=2/3,v=1):\n",
    "    # s is the number of steps of the random walk\n",
    "    numb_particle = len(space)\n",
    "    particles_index = np.arange(numb_particle)\n",
    "    particles_number_steps = np.random.poisson(v*numb_particle,s)+2\n",
    "    print('particles steps',particles_number_steps)\n",
    "    total = np.cumsum(particles_number_steps)\n",
    "    to_move = np.random.choice(particles_index,total[-1])\n",
    "    directions = np.random.choice([-1,1],total[-1])\n",
    "\n",
    "    print(to_move)\n",
    "    print(directions)\n",
    "\n",
    "    # if L is the total number of particles in the environment, \n",
    "    # environment partcles receive index in [0,1, ... , L-1]\n",
    "    # random walk will receive index L = numb_particle\n",
    "    for n in total: \n",
    "        to_move[n-2] = numb_particle  \n",
    "        to_move[n-1] = numb_particle+1\n",
    "        dir_l = bernoulli.rvs(left_drift)\n",
    "        dir_r = bernoulli.rvs(right_drift)\n",
    "        dir_l = 2*dir_l -1\n",
    "        dir_r = 2*dir_r -1\n",
    "        directions[n-2]  = dir_l\n",
    "        directions[n-1]= dir_r\n",
    "    \n",
    "    print(to_move)\n",
    "    print(directions)\n",
    "\n",
    "space = space_env(8)\n",
    "moves(space,2)"
   ]
  }
 ],
 "metadata": {
  "kernelspec": {
   "display_name": "rwre_env",
   "language": "python",
   "name": "python3"
  },
  "language_info": {
   "codemirror_mode": {
    "name": "ipython",
    "version": 3
   },
   "file_extension": ".py",
   "mimetype": "text/x-python",
   "name": "python",
   "nbconvert_exporter": "python",
   "pygments_lexer": "ipython3",
   "version": "3.9.2"
  }
 },
 "nbformat": 4,
 "nbformat_minor": 5
}
