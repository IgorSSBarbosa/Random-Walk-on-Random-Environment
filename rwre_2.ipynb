{
 "cells": [
  {
   "cell_type": "markdown",
   "id": "3e7db620",
   "metadata": {},
   "source": [
    "# Random walk on a Random environment\n",
    "\n",
    "Let $\\mathbb{Z}$ be the set of integers, we are going to define a **Simple Exclusion Process** $X_t$ on $\\mathbb{Z}$ in order  to define a random environment and above that another particle will do **Random walk** over this random environment.\n",
    "\n",
    "In time $t=0$ for each $i \\in \\mathbb{Z}$ is drawn independently from a Bernoulli $\\frac{1}{2}$ distribution to define if there is a particle in position $i$ or if there is no particle in that place. When times passes from $t=0$ to $t=1$, the environment changes with the following rule.\n",
    "\n",
    "- $n$ is drawn from a *Poisson* distribution of mean $v$ (v means the velocity of the environment).\n",
    "- $n$ particles are chosen (with replacement) to move. The order that we choose the particles to move matters.\n",
    "- For each particle *to move*, if the position of the particle is $i$ then the new position of that particle is $i-1$ or $i+1$ with the same probability, but the particle only moves to that new position if there is no other particle occupying the same space.\n",
    "\n",
    "Between the interchanges of the environment a (discrete) **Random walk** is done.\n",
    "\n",
    "- The random walk starts at position $0$, that is $X_0=0$.\n",
    "- If the random walk is at position where there is a particle, then the random walk has a *left drift*, which means the probability of the random walk to go to the right neighbor is $1/3$ and the probability to go to the left neighbor is $2/3$.\n",
    "- Otherwise the random walk is in a position without particle and there is a *right drift*, which means the probability to go to left is $1/3$ and the probability to go to the right is $2/3$.\n",
    "\n",
    "**Remark**: the random walk does not affect the movement of the environment particles.\n",
    "The main goal of the following code is to simulate a box of this process and try to estimate the coefficient of diffusion of this process.\n",
    "It is somehow believed that $\\mathbb{E}|X_t|\\sim a_0 t^\\gamma$. We call this coefficient $\\gamma$ *coefficient of diffusion*."
   ]
  },
  {
   "cell_type": "markdown",
   "id": "370cec31",
   "metadata": {},
   "source": [
    "\n",
    "\n",
    "\n",
    "## Update\n",
    "\n",
    "- Create functions `particle_to_move()` and `move_all()`. \n",
    "- Change the representation of the particles.\n",
    "\n",
    "Now the movement of environment particles and the random walk is done by the same function `move_all()` and also the current position of the particles and the random walk is saved in the same array.\n",
    "\n",
    "If $L$ is the size of the environment and $mu$ is the density of particles `space_env()` still keeps the first $\\lfloor L \\cdot mu \\rfloor$ entries to memorize the positions of the particles, but the last entry is reserved for the random walk position.\n",
    "\n",
    "For example, `space_env = [0,3,5,6,3]`, which means that the first particle is at position 0, the second one is at 3, so on, and the random walk is at position 3 (together with a particle). The random walk can take negative values but the particles can't. For example, in `space_env = [10, 12, 15, 0, 2, 3, 4, -2]`. \n",
    "\n",
    "The `particle_to_move()` function returns `to_move`,`to_dir_l`,`to_dir_r` arrays of the same size, `to_move` indicates the particle or random walk moves and `to_dir_l` or `to_dir_r` indicates the direction to move,\n",
    "\n",
    "The `move_all()` function takes `space_env`, `to_move`, `to_dir_l`, `to_dir_r` and `L` as input, then moves all particles of `to_move` accordingly with the instructions of `to_dir_l` or `to_dir_r`, it needs two arrays for directions because random walk has different behavior when it is at a particle (`to_dir_l`) or when random walk is not at a particle (`to_dir_r`).\n",
    "\n",
    "\n",
    "`to_move` is an array with particles indexes or random walk index (the last one index of space_env), which chooses which particle or random walk is moving. \n",
    "`to_dir_l` is an array of $[-1,1]$ values. If it is a particle that is moving, it as sampled by a Bernoulli(1/2), if it is the random walk moving then it is sampled by a Bernoulli(`left_drift`).\n",
    "`to_dir_l` is an array of $0$'s if a particle is moving, but if it is the random walk moving then it contains $[-1,1]$ values sampled by a Bernoulli(`right_drift`)."
   ]
  },
  {
   "cell_type": "code",
   "execution_count": 1,
   "id": "1dc53c37",
   "metadata": {},
   "outputs": [
    {
     "name": "stdout",
     "output_type": "stream",
     "text": [
      "[0 1 2 4 7 0]\n",
      "[0 4 0]\n"
     ]
    }
   ],
   "source": [
    "import random\n",
    "import numpy as np\n",
    "import matplotlib.pyplot as plt\n",
    "import time\n",
    "from tqdm import tqdm\n",
    "from scipy.stats import bernoulli\n",
    "\n",
    "def space_env(L , mu=0.5):\n",
    "    total_space = np.arange(L)\n",
    "    space = np.random.choice(total_space, int(L*mu), replace=False)  # choose L/2 of the bins to contain a particle\n",
    "    space = np.sort(space)\n",
    "    space = np.append(space,[0])\n",
    "    return(space)                                           # return the index of the particles sorted\n",
    "\n",
    "\n",
    "# example of use\n",
    "\n",
    "# defining parameters\n",
    "L = 10      # number of size space simulated\n",
    "\n",
    "test = space_env(L)\n",
    "print(test)\n",
    "mu = 0.2\n",
    "test2 = space_env(L,mu)\n",
    "print(test2)\n",
    "\n",
    "# the last one entry of space is always related to the positions of the random walk, that starts at 0"
   ]
  },
  {
   "cell_type": "code",
   "execution_count": 2,
   "id": "f9cc5c58",
   "metadata": {},
   "outputs": [],
   "source": [
    "def search(space,L,old_idx=0): # This function checks if the position of rw(space[-1]) is at some particle\n",
    "    a = (space[-1])%L \n",
    "    numbpart = len(space)-1\n",
    "    left,right = (old_idx%numbpart),((old_idx+1)%numbpart)\n",
    "\n",
    "    if space[left]== a:\n",
    "        return True,left\n",
    "    if space[right]==a:\n",
    "        return True,left\n",
    "    \n",
    "    if (space[left]> space[right]):  # in that case there is a jump between left and right\n",
    "        if a> space[left] or space[right]>a:\n",
    "            return False, left\n",
    "\n",
    "    # Determine a properly sorted interval [left, right]\n",
    "    while (space[left]> a)and(space[(left-1)%numbpart]<space[left]):\n",
    "        # first part checks if      a < left\n",
    "        # second part checks for a jump\n",
    "        left = (left - 1)%(numbpart)\n",
    "    while (space[right]<a)and(space[right]<space[(right+1)%numbpart]):\n",
    "        # first part checks if right < a\n",
    "        # second part checks for a jump\n",
    "        right = (right + 1)%(numbpart)    \n",
    "    # Binary search on [left,right]\n",
    "    while left <= right:\n",
    "        mid = (left+right)//2\n",
    "        if space[mid] == a:\n",
    "            return True,left\n",
    "        \n",
    "        if space[mid]< a<=space[right]:\n",
    "            left = mid+1\n",
    "        elif space[left]<= a < space[mid]:\n",
    "            right = mid-1\n",
    "        else:\n",
    "            return False,left\n",
    "    return False,left"
   ]
  },
  {
   "cell_type": "code",
   "execution_count": 3,
   "id": "268b6efe",
   "metadata": {},
   "outputs": [
    {
     "name": "stdout",
     "output_type": "stream",
     "text": [
      "space = [5, 7, 9, 1, 3, 1]\n",
      "3\n",
      "False\n"
     ]
    }
   ],
   "source": [
    "# example of use\n",
    "\n",
    "# defining parameters\n",
    "L = 10      # number of size space simulated\n",
    "\n",
    "test = [5,7,9,1,3,0]\n",
    "test[-1] = 1\n",
    "old_idx = 4 # the index of last seen particle\n",
    "print('space =',test)\n",
    "\n",
    "b,left_idx =search(test,L,old_idx)\n",
    "print(left_idx)\n",
    "print(b)"
   ]
  },
  {
   "cell_type": "code",
   "execution_count": 4,
   "id": "d377d932",
   "metadata": {},
   "outputs": [
    {
     "name": "stdout",
     "output_type": "stream",
     "text": [
      "[1 1 1 0 2 1 2 1 1 1 2]\n",
      "[-1  1  1 -1  1  1 -1  1 -1 -1  1]\n",
      "[0. 0. 0. 0. 1. 0. 1. 0. 0. 0. 1.]\n"
     ]
    }
   ],
   "source": [
    "def pipeline_to_move(space,s,l_drift=1/3, r_drift=2/3,v=1):\n",
    "    # space is a vector with index of particles and the random walk in the last\n",
    "    # s is the number of steps taken by the random walk\n",
    "    numb_particles = len(space) -1                   # subtract one to not count rw as a particle\n",
    "    p_index = np.arange(numb_particles)      # enumerating the particles\n",
    "    p_steps = np.random.poisson(v*numb_particles,s)+1\n",
    "    total = np.cumsum(p_steps)              # determining the times whether random walks jumps\n",
    "    to_move = np.random.choice(p_index,total[-1])# determining which particle/rw jumps each time\n",
    "                \n",
    "    to_dir_l = np.random.choice([-1,1],total[-1])      # determining the vector of the directions to jump\n",
    "    to_dir_r = np.zeros(total[-1])                     # to avoid bugs\n",
    "    for n in total:                                    # random walk steps\n",
    "        to_dir_l[n-1] = 2*np.random.binomial(1,l_drift) -1 # sampling rw steps if there is a particle\n",
    "        to_dir_r[n-1] = 2*np.random.binomial(1,r_drift) -1 # sampling rw steps if there is not a particle\n",
    "        to_move[n-1]= numb_particles\n",
    "        \n",
    "    return to_move,to_dir_l,to_dir_r\n",
    "\n",
    "# example  of use\n",
    "L=4\n",
    "space = space_env(L)\n",
    "s=3\n",
    "to_mo, to_dir_l,  to_dir_r = pipeline_to_move(space,s)\n",
    "print(to_mo)\n",
    "print(to_dir_l)\n",
    "print(to_dir_r)\n"
   ]
  },
  {
   "cell_type": "code",
   "execution_count": 5,
   "id": "69fd1fd2",
   "metadata": {},
   "outputs": [],
   "source": [
    "def can_particle_move(space, L, i, dir_l): # Boolean saying if the particle i can move dir_l\n",
    "    numb_particles = len(space)-1\n",
    "    actual_pos= space[i] \n",
    "    new_pos = (actual_pos + dir_l)%L\n",
    "    next_part_idx = (i + dir_l)% numb_particles\n",
    "    next_part_pos = space[next_part_idx]\n",
    "\n",
    "    return new_pos != next_part_pos\n"
   ]
  },
  {
   "cell_type": "code",
   "execution_count": 6,
   "id": "a0d9d85e",
   "metadata": {},
   "outputs": [
    {
     "name": "stdout",
     "output_type": "stream",
     "text": [
      "[2 3 4 7 0]\n",
      "[1 4 5 6 1]\n"
     ]
    }
   ],
   "source": [
    "def move_all(space,L,to_move,to_dir_l,to_dir_r,old_part=0):\n",
    "    numb_particles = len(space)-1\n",
    "    for i,dir_l,dir_r in zip(to_move,to_dir_l,to_dir_r):\n",
    "        if i == numb_particles:                     # i is the rw to_move\n",
    "            rw_isinpart, old_part = search(space,L,old_part)\n",
    "            if rw_isinpart:        # rw is at a particle\n",
    "                space[-1] = space[-1] + dir_l\n",
    "            else:                                       # rw is not at a particle       \n",
    "                space[-1] = space[-1] + dir_r\n",
    "        else:                                       # i is a particle to move\n",
    "            if can_particle_move(space,L,i,dir_l):  # if particle i can move \n",
    "                space[i] = (space[i] + dir_l)%L     # Move the particle\n",
    "\n",
    "# example of use\n",
    "L = 8\n",
    "space = space_env(L)\n",
    "print(space)\n",
    "s=9\n",
    "to_mov, to_dir_l,to_dir_r = pipeline_to_move(space,s)\n",
    "move_all(space,L,to_mov, to_dir_l,to_dir_r)\n",
    "print(space)\n"
   ]
  },
  {
   "cell_type": "code",
   "execution_count": 7,
   "id": "34250389",
   "metadata": {},
   "outputs": [
    {
     "name": "stdout",
     "output_type": "stream",
     "text": [
      "randomwalk = 5\n"
     ]
    }
   ],
   "source": [
    "def rw(L,s=L+1,mu=1/2,l_drift=1/3,r_drift=2/3,v=1):\n",
    "    space = space_env(L,mu)\n",
    "    to_move,to_dir_l,to_dir_r = pipeline_to_move(space,s,l_drift,r_drift,v)\n",
    "    move_all(space,L,to_move,to_dir_l,to_dir_r)\n",
    "    return space[-1] # returns the position of the random walk\n",
    "\n",
    "\n",
    "# example of use\n",
    "L=10\n",
    "randomwalk=rw(L)\n",
    "print('randomwalk =',randomwalk)"
   ]
  },
  {
   "cell_type": "code",
   "execution_count": 8,
   "id": "a774c9f6",
   "metadata": {},
   "outputs": [
    {
     "name": "stderr",
     "output_type": "stream",
     "text": [
      "4it [00:00, 165.97it/s]"
     ]
    },
    {
     "name": "stdout",
     "output_type": "stream",
     "text": [
      "\n",
      "\n",
      "--- 0.040863037109375 seconds ---\n",
      "\n",
      "\n",
      "[[  7.  -5.   3.  -3.   3.   3.  -5.   3.   1.   1.]\n",
      " [  3.   7.  -5.   3.   1.   3.   3.  -7.   1.   3.]\n",
      " [ -1.   1.   1.   3.  -3.  -7.   3.  -3.   1.  11.]\n",
      " [ 13.  -1.   5.   9. -11.  13.   3.  11. -11.   7.]]\n"
     ]
    },
    {
     "name": "stderr",
     "output_type": "stream",
     "text": [
      "\n"
     ]
    }
   ],
   "source": [
    "def generate_data(Numbsimul,L,t=L+1,mu=1/2,l_drift=1/3,r_drift=2/3,v=1):\n",
    "    # L,v,t,mu  are exactly thte same parameters used in random_walk\n",
    "    # N is the number of simulations made\n",
    "\n",
    "    data = np.array([rw(L,t,mu,l_drift,r_drift,v) for i in range(Numbsimul)])\n",
    "    return(data)\n",
    "\n",
    "\n",
    "def full_data_random_walk(k1,k2,Numbsimul,mu=1/2,l_drift=1/3,r_drift=2/3,v=1):\n",
    "# k_1 is the minum size simulation and k2 is biggest \n",
    "    if k2<=k1:\n",
    "        print('------------k2 must be bigger than k1-----------')\n",
    "        return('error')\n",
    "\n",
    "    start_time = time.time()\n",
    "\n",
    "    # (L,v,t,mu) are exactly the same parameters used in random walk\n",
    "\n",
    "    data = np.zeros((k2+1-k1, Numbsimul))\n",
    "\n",
    "    for i, k in tqdm(enumerate(range(k1, k2+1))):\n",
    "        n = pow(2,k)\n",
    "        data[i,:] = np.array(generate_data(Numbsimul,n,n+1,mu,l_drift,r_drift,v))\n",
    "    print('\\n')\n",
    "    print(\"--- %s seconds ---\" % (time.time() - start_time))\n",
    "    print('\\n')\n",
    "\n",
    "    return(data)\n",
    "\n",
    "\n",
    "# example of use\n",
    "k1=3 \n",
    "k2=6\n",
    "Numbsimul=10\n",
    "\n",
    "A = full_data_random_walk(k1,k2,Numbsimul)\n",
    "print(A)\n"
   ]
  },
  {
   "cell_type": "code",
   "execution_count": 9,
   "id": "5ea7d351",
   "metadata": {},
   "outputs": [
    {
     "name": "stderr",
     "output_type": "stream",
     "text": [
      "5it [01:02, 12.60s/it]"
     ]
    },
    {
     "name": "stdout",
     "output_type": "stream",
     "text": [
      "\n",
      "\n",
      "--- 62.977381229400635 seconds ---\n",
      "\n",
      "\n",
      " ---- diffusion constant is approximally 0.49713306571687327 using quantile 0.55 ----\n",
      " ---- diffusion constant is approximally 0.7562242424221074 median ----\n",
      " ---- diffusion constant is approximally 0.5711958526533399 mean ----\n"
     ]
    },
    {
     "name": "stderr",
     "output_type": "stream",
     "text": [
      "\n"
     ]
    },
    {
     "data": {
      "image/png": "[encoded data removed]",
      "text/plain": [
       "<Figure size 640x480 with 1 Axes>"
      ]
     },
     "metadata": {},
     "output_type": "display_data"
    }
   ],
   "source": [
    "from loglogplot import log_log_plot\n",
    "\n",
    "k1 = 3\n",
    "k2 = 7\n",
    "Numbsimul = 10000\n",
    "A = full_data_random_walk(k1,k2, Numbsimul)\n",
    "\n",
    "# Making the graphic of log_log_plot\n",
    "q = 0.55\n",
    "dom = np.arange(k1,k2+1)\n",
    "log_log_plot(q,dom,A)"
   ]
  }
 ],
 "metadata": {
  "kernelspec": {
   "display_name": "rwre_env",
   "language": "python",
   "name": "python3"
  },
  "language_info": {
   "codemirror_mode": {
    "name": "ipython",
    "version": 3
   },
   "file_extension": ".py",
   "mimetype": "text/x-python",
   "name": "python",
   "nbconvert_exporter": "python",
   "pygments_lexer": "ipython3",
   "version": "3.9.2"
  }
 },
 "nbformat": 4,
 "nbformat_minor": 5
}
