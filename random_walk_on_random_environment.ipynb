{
 "cells": [
  {
   "cell_type": "markdown",
   "metadata": {},
   "source": [
    "# Random walk on a Random environment\n",
    "\n",
    "Let $\\mathbb{Z}$ be the set of integers, we are going to define a **Simple Exclusion Process** $X_t$ on $\\mathbb{Z}$ in order  to define a random environment and above that another particle will do **Random walk** over this random environment.\n",
    "\n",
    "In time $t=0$ for each $i \\in \\mathbb{Z}$ is drawn independently from a Bernoulli $\\frac{1}{2}$ distribution to define if there is a particle in position $i$ or if there is no particle in that place. When times passes from $t=0$ to $t=1$, the environment changes with the following rule.\n",
    "\n",
    "- $s$ is drawn from a *Poisson* distribution of mean $v$ (v means the velocity of the environment).\n",
    "- $s$ particles are chosen (with replacement) to move. The order that we choose the particles to move matters.\n",
    "- For each particle *to move*, if the position of the particle is $i$ then the new position of that particle is $i-1$ or $i+1$ with the same probability, but the particle only moves to that new position if there is no other particle occupying the same space.\n",
    "\n",
    "Between the interchanges of the environment a (discrete) **Random walk** is done.\n",
    "\n",
    "- The random walk starts at position $0$, that is $X_0=0$.\n",
    "- If the random walk is in a position where there is a particle, then the random walk has a *right drift*, which means the probability of the random walk to go to the right neighbor is $2/3$ and the probability to go to the left neighbor is $1/3$.\n",
    "- Otherwise the random walk is in a position without particle and there is a *left drift*, which means the probability to go to left is $2/3$ and the probability to go to the right is $1/3$.\n",
    "\n",
    "**Remark**: the random walk does not affect the movement of the environment particles."
   ]
  },
  {
   "cell_type": "markdown",
   "metadata": {},
   "source": [
    "The main goal of the following code is to simulate a box of this process and try to estimate the coefficient of diffusion of this process.\n",
    "It is somehow believed that $\\mathbb{E}|X_t|\\sim a_0 n^\\gamma$. We call this coefficient $\\gamma$ *coefficient of diffusion*."
   ]
  },
  {
   "cell_type": "markdown",
   "metadata": {},
   "source": [
    "**Update:**\n",
    "\n",
    "In the last version I was sampling the (random) environment as a sequence of (L) 'zero's and 'one's ('one' means particle and 'zero' means no particle).\n",
    "Now I going to sample differently, sample a vector(named 'space_env') with (length = L/2) indexes (sorted increasing), for each index(e.g. space_ev = [0,1,4,7,9,10] ) in that vector is meant to have a particle in that location (e.g. the first particle is at position 0 and last one is at position 10)"
   ]
  },
  {
   "cell_type": "code",
   "execution_count": 47,
   "metadata": {},
   "outputs": [
    {
     "name": "stdout",
     "output_type": "stream",
     "text": [
      "[2 3 5 8 9]\n",
      "[0 3]\n"
     ]
    }
   ],
   "source": [
    "import random\n",
    "import numpy as np\n",
    "import matplotlib.pyplot as plt\n",
    "import time\n",
    "from tqdm import tqdm\n",
    "from scipy.stats import bernoulli\n",
    "\n",
    "def space_env(L , mu=0.5):\n",
    "    total_space = np.arange(L)\n",
    "    space = np.random.choice(total_space, int(L*mu), replace=False)  # choose L/2 of the bins to contain a particle\n",
    "    return(np.sort(space))                                           # return the index of the particles sorted\n",
    "\n",
    "# example of use\n",
    "\n",
    "# defining parameters\n",
    "L = 10      # number of size space simulated\n",
    "\n",
    "test = space_env(L)\n",
    "print(test)\n",
    "mu = 0.2\n",
    "test2 = space_env(L,mu)\n",
    "print(test2)"
   ]
  },
  {
   "cell_type": "markdown",
   "metadata": {},
   "source": [
    "\n",
    "The function below tells how the particle moves, and takes as input `space`, a *sorted, increasing* array of particle positions and updates the positions of the particles according to the particle movements.\n",
    "\n",
    "**Remark:** the output of `move_particle` is always a cyclical permutation of a *sorted, increasing* array (not necessarily the input one)."
   ]
  },
  {
   "cell_type": "code",
   "execution_count": 94,
   "metadata": {},
   "outputs": [
    {
     "name": "stdout",
     "output_type": "stream",
     "text": [
      "[ 1  2  3  4  9 11 12 15 16 17]\n",
      "[ 0  2  3  4  9 10 13 15 16 17]\n"
     ]
    }
   ],
   "source": [
    "\n",
    "def move_particle(space,s,L,mu=0.5):\n",
    "    #Moves s particles to a neighboring site if that new position is empty\n",
    "    particles_index = np.arange(len(space))\n",
    "    particles_to_move = np.random.choice(particles_index,s)\n",
    "\n",
    "    # Pick a random direction  for each step (left or right)\n",
    "    direction = np.random.choice([-1, 1], s)\n",
    "    \n",
    "    # this is a torus, if the particle at L-1 jumps to right it goes to 0, and vice-versa\n",
    "    for idx_atual, dir_particle in zip(particles_to_move, direction):\n",
    "        # Check if the new position is empty (no particle present)\n",
    "        # Since we are in Z, the order of partiles is never changed, \n",
    "        # therefore it's enough to check if new_postition is equal to position of next particle.\n",
    "        if ((space[idx_atual] + dir_particle)% L  ) != ((space[(idx_atual + dir_particle)%(int(L/2))])%L):\n",
    "            # Move the particle\n",
    "            space[idx_atual] = (space[idx_atual] + dir_particle)%L\n",
    "\n",
    "# example of use\n",
    "L=20\n",
    "space = space_env(L)\n",
    "print(space)\n",
    "move_particle(space,10,L)\n",
    "print(space)\n",
    "\n",
    "\n"
   ]
  },
  {
   "cell_type": "markdown",
   "metadata": {},
   "source": [
    "The next function takes as input `(space,a)`\n",
    "- `space` is the array of integers containing the positions of all environment particles.\n",
    "- `a` is an integer representing a position of the space.\n",
    "\n",
    "The output of `search_in_rotated_array(space,a)` is a boolean that answers if `a`belongs to `space` or not. \n",
    "It's  an adaptation of binary search on a sorted list, it only works, because `space`it is not a sorted list, but it is a cyclic permutation of a sorted list, and this only happens in one-dimension space.\n"
   ]
  },
  {
   "cell_type": "code",
   "execution_count": 109,
   "metadata": {},
   "outputs": [
    {
     "name": "stdout",
     "output_type": "stream",
     "text": [
      "[0 2 4 8 9]\n",
      "1\n",
      "False\n"
     ]
    }
   ],
   "source": [
    "def search_in_rotated_array(space, a)-> bool: # This is an adaptation of binary search that decides wheter a belongs to space or not\n",
    "    left, right = 0, len(space) - 1 \n",
    "\n",
    "    while left <= right:\n",
    "        mid = (left + right) // 2\n",
    "\n",
    "        if space[mid] == a:\n",
    "            return True  # Found the element\n",
    "\n",
    "        # Determine which side is properly sorted\n",
    "        if space[left] <= space[mid]:  # Left half is sorted\n",
    "            if space[left] <= a < space[mid]:  # Target in left half\n",
    "                right = mid - 1\n",
    "            else:  # Target in right half\n",
    "                left = mid + 1\n",
    "        else:  # Right half is sorted\n",
    "            if space[mid] < a <= space[right]:  # Target in right half\n",
    "                left = mid + 1\n",
    "            else:  # Target in left half\n",
    "                right = mid - 1\n",
    "\n",
    "    return False  # Element not found\n",
    "\n",
    "# example of use\n",
    "L=10\n",
    "space = space_env(L)\n",
    "rw = np.random.choice(np.arange(L))\n",
    "print(space)\n",
    "print(rw)\n",
    "print(search_in_rotated_array(space,rw))"
   ]
  },
  {
   "cell_type": "code",
   "execution_count": 126,
   "metadata": {},
   "outputs": [
    {
     "name": "stdout",
     "output_type": "stream",
     "text": [
      "-1\n"
     ]
    }
   ],
   "source": [
    "\n",
    "'''Random Walk'''\n",
    "\n",
    "\n",
    "def random_walk_step(space , rw , right_drift=1/3, left_drift=2/3):\n",
    "    \n",
    "    if search_in_rotated_array(space,rw): # in blue particles there is a right shift\n",
    "        direction = bernoulli.rvs(right_drift)  # sample 1 with prob 1/3 and 0 with probability 2/3 \n",
    "        direction = 2*direction -1              # change bernoulli(0,1) to bernoulli(-1,+1)\n",
    "        rw = rw + direction\n",
    "        # print(direction)\n",
    "        return(rw)\n",
    "    \n",
    "    else :# in red particles there is a left shift\n",
    "        direction = bernoulli.rvs(left_drift)   # sample 1 with prob 2/3 and 0 with probability 1/3 \n",
    "        direction = 2*direction -1              # change bernoulli(0,1) to bernoulli(-1,+1)\n",
    "        rw = rw + direction\n",
    "        # print(direction)\n",
    "        return(rw)\n",
    "\n",
    "\n",
    "def random_walk(L,t,right_drift=1/3,left_drift=2/3,mu=1/2,v=1): \n",
    "    # L means size of lattice,\n",
    "    # v is the velocity of the environment particles, \n",
    "    # t is the number of steps of RW, \n",
    "    # mu is the proportion of particlesin the environment.\n",
    "\n",
    "    rw = 0 # random walk starts at zero\n",
    "    \n",
    "    space = space_env(L,mu)\n",
    "    numb_particle = len(space)\n",
    "\n",
    "    for t0 in range(t):\n",
    "        s = np.random.poisson(numb_particle*v)\n",
    "\n",
    "        move_particle(space,s,L,mu)\n",
    "        rw = random_walk_step(space,rw,right_drift,left_drift)\n",
    "    return(rw)\n",
    "\n",
    "# example of use\n",
    "L=20\n",
    "t=1\n",
    "right_drift = 1/3\n",
    "left_drift = 2/3\n",
    "rw = random_walk(L,t)\n",
    "print(rw)\n"
   ]
  },
  {
   "cell_type": "code",
   "execution_count": 127,
   "metadata": {},
   "outputs": [
    {
     "name": "stderr",
     "output_type": "stream",
     "text": [
      "4it [00:00, 17.51it/s]"
     ]
    },
    {
     "name": "stdout",
     "output_type": "stream",
     "text": [
      "\n",
      "\n",
      "--- 0.2616705894470215 seconds ---\n",
      "\n",
      "\n",
      "[[ 2.  4.  2.  2.  2.  2.  2.  2.  0.  6.]\n",
      " [-2.  6. -4.  0.  2.  0.  2.  4.  2. -8.]\n",
      " [ 2.  0.  0. -2.  6.  0.  6.  2.  4.  8.]\n",
      " [22.  4.  2. 20. 12. 12.  2.  2. 12.  0.]]\n"
     ]
    },
    {
     "name": "stderr",
     "output_type": "stream",
     "text": [
      "\n"
     ]
    }
   ],
   "source": [
    "\n",
    "def generate_data(Numbsimul,L,t,right_drift,left_drift,mu=1/2,v=1):\n",
    "    # L,v,t,mu  are exactly thte same parameters used in random_walk\n",
    "    # N is the number of simulations made\n",
    "\n",
    "    data = np.array([random_walk(L,t,right_drift,left_drift,mu,v) for i in range(Numbsimul)])\n",
    "    return(data)\n",
    "\n",
    "def full_data_random_walk(k1,k2,Numbsimul,right_drift=1/3,left_drift=2/3,mu=1/2,v=1):\n",
    "# k_1 is the minum size simulation and k2 is biggest \n",
    "    if k2<=k1:\n",
    "        print('------------k2 must be bigger than k1-----------')\n",
    "        return('error')\n",
    "\n",
    "    start_time = time.time()\n",
    "\n",
    "    # (L,v,t,mu) are exactly the same parameters used in random walk\n",
    "\n",
    "    data = np.zeros((k2+1-k1, Numbsimul))\n",
    "\n",
    "    for i, k in tqdm(enumerate(range(k1, k2+1))):\n",
    "        n = pow(2,k)\n",
    "        data[i,:] = np.array(generate_data(Numbsimul,n,n,right_drift,left_drift,mu,v))\n",
    "    print('\\n')\n",
    "    print(\"--- %s seconds ---\" % (time.time() - start_time))\n",
    "    print('\\n')\n",
    "\n",
    "    return(data)\n",
    "\n",
    "\n",
    "# example of use\n",
    "k1=3 \n",
    "k2=6\n",
    "Numbsimul=10\n",
    "\n",
    "A = full_data_random_walk(k1,k2,Numbsimul)\n",
    "print(A)\n"
   ]
  }
 ],
 "metadata": {
  "kernelspec": {
   "display_name": "randomwalk_envir_local",
   "language": "python",
   "name": "python3"
  },
  "language_info": {
   "codemirror_mode": {
    "name": "ipython",
    "version": 3
   },
   "file_extension": ".py",
   "mimetype": "text/x-python",
   "name": "python",
   "nbconvert_exporter": "python",
   "pygments_lexer": "ipython3",
   "version": "3.9.2"
  }
 },
 "nbformat": 4,
 "nbformat_minor": 2
}
