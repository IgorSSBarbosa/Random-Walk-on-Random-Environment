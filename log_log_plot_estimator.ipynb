{
 "cells": [
  {
   "cell_type": "markdown",
   "id": "97db5bf4",
   "metadata": {},
   "source": [
    "# Log-log plot estimator"
   ]
  },
  {
   "cell_type": "code",
   "execution_count": 5,
   "id": "ffa621cf",
   "metadata": {},
   "outputs": [
    {
     "name": "stderr",
     "output_type": "stream",
     "text": [
      "4it [00:00, 19.64it/s]"
     ]
    },
    {
     "name": "stdout",
     "output_type": "stream",
     "text": [
      "\n",
      "\n",
      "--- 0.23431611061096191 seconds ---\n",
      "\n",
      "\n",
      "Raw data\n",
      "[[-2.  0. -4.  0.  2. -2.  0. -2.  0. -2.]\n",
      " [ 2.  4.  4.  4.  8.  0.  2.  0. -4.  0.]\n",
      " [ 6.  0.  0.  6.  2. -2.  4.  2.  0.  8.]\n",
      " [ 6. 10.  4.  4.  8.  4.  4.  0.  4.  8.]]\n",
      "\n",
      "\n",
      "absolute value of data\n",
      "[[ 2.  0.  4.  0.  2.  2.  0.  2.  0.  2.]\n",
      " [ 2.  4.  4.  4.  8.  0.  2.  0.  4.  0.]\n",
      " [ 6.  0.  0.  6.  2.  2.  4.  2.  0.  8.]\n",
      " [ 6. 10.  4.  4.  8.  4.  4.  0.  4.  8.]]\n",
      "\n",
      "\n",
      "sorted absolute value of data\n",
      "[[ 0.  0.  0.  0.  2.  2.  2.  2.  2.  4.]\n",
      " [ 0.  0.  0.  2.  2.  4.  4.  4.  4.  8.]\n",
      " [ 0.  0.  0.  2.  2.  2.  4.  6.  6.  8.]\n",
      " [ 0.  4.  4.  4.  4.  4.  6.  8.  8. 10.]]\n",
      "\n",
      "\n",
      "mean values of each row\n",
      "[1.4 2.8 3.  5.2]\n",
      "\n",
      "\n",
      "median values of each row\n",
      "[2. 3. 2. 4.]\n"
     ]
    },
    {
     "name": "stderr",
     "output_type": "stream",
     "text": [
      "\n"
     ]
    }
   ],
   "source": [
    "import numpy as np\n",
    "import matplotlib.pyplot as plt\n",
    "from scipy.stats import norm\n",
    "\n",
    "# In order to use everything in this notebook will be need some other function that produces some data\n",
    "# Here will be used `full_data_random_walk()` from 'rwre.py'\n",
    "from rwre import full_data_random_walk\n",
    "\n",
    "\n",
    "# taking absolute value of S_n, sorting the samples, calculate mean and median.\n",
    "def treat_this_data(A):\n",
    "    absA = np.abs(A)\n",
    "    sortedAbs = np.sort(absA)\n",
    "    meanA = absA.mean(1)\n",
    "    median = np.quantile(absA, 0.5 , 1)\n",
    "    return (absA,sortedAbs,meanA, median)\n",
    "\n",
    "# Example  of use\n",
    "k1=3\n",
    "k2=6\n",
    "Numbsimul=10\n",
    "A = full_data_random_walk(k1,k2,Numbsimul)\n",
    "print('Raw data')\n",
    "print(A)\n",
    "print('\\n')\n",
    "absA, sortedAbs, meanA, median = treat_this_data(A)\n",
    "print('absolute value of data')\n",
    "print(absA)\n",
    "print('\\n')\n",
    "print('sorted absolute value of data')\n",
    "print(sortedAbs)\n",
    "print('\\n')\n",
    "print('mean values of each row')\n",
    "print(meanA)\n",
    "print('\\n')\n",
    "print('median values of each row')\n",
    "print(median)"
   ]
  },
  {
   "cell_type": "markdown",
   "id": "77364e2f",
   "metadata": {},
   "source": [
    "The **confidence interval** is a interval $[a_1,a_2]$ for the quantile $q$, and $a_1$ is defined to be the first element with index less or equal to $q \\cdot N - \\Phi(\\alpha)\\sqrt{N}$, and $a_2$ is defined to be the first element with index less or equal to $q \\cdot N + \\Phi(\\alpha)\\sqrt{N}$.\n",
    "\n",
    "- $N$ is the number of simulations done.\n",
    "- $\\alpha$ is the level of confidence.\n",
    "- $\\Phi$ is the inverse of the probability density function of a standard normal, i.e., \n",
    "\n",
    "$$\\Phi(z) = \\int_{-\\infty}^z \\frac{1}{\\sqrt{2\\pi}} e^{-\\frac{1}{2}x^2} dx$$"
   ]
  },
  {
   "cell_type": "code",
   "execution_count": null,
   "id": "24d22514",
   "metadata": {},
   "outputs": [],
   "source": [
    "# calculating the interval of confidence\n",
    "\n",
    "def confidence_level(q,sortedAbs, alpha=0.01): # it gives a confifence interval centered in quantile q\n",
    "    numb_columns,numb_rows = sortedAbs.shape\n",
    "    # numb_columns is the range of simulations done\n",
    "    # numb_rows is the number of simulations done\n",
    "\n",
    "    lowerboundindex = [int(np.floor(q*(numb_rows - np.sqrt(numb_rows)*norm.isf(alpha)))) for i in range(numb_columns)]\n",
    "    upperboundindex = [int(np.ceil(q*(numb_rows + np.sqrt(numb_rows)*norm.isf(alpha)))) for i in range(numb_columns)]\n",
    "    \n",
    "    lowerboundheight = sortedAbs[np.arange(numb_columns),lowerboundindex]\n",
    "    upperboundheight = sortedAbs[np.arange(numb_columns),upperboundindex]\n",
    "\n",
    "    quantile_q = sortedAbs[np.arange(numb_columns), int( numb_rows*q ) ]\n",
    "    \n",
    "    errorbar = [np.abs(lowerboundheight-quantile_q), np.abs(upperboundheight-quantile_q)]\n",
    "    return errorbar"
   ]
  },
  {
   "cell_type": "markdown",
   "id": "1ed780c9",
   "metadata": {},
   "source": [
    "The following function performs a linear regression of `dom` by `out`"
   ]
  },
  {
   "cell_type": "code",
   "execution_count": 8,
   "id": "1a257eee",
   "metadata": {},
   "outputs": [],
   "source": [
    "def linear_regression(dom,out,q=None,errorbar=None):\n",
    "    poly_coef = np.polyfit(dom, out, 1)\n",
    "    poly_out = [poly_coef[1] + poly_coef[0]*x for x in dom]\n",
    "\n",
    "    # print the results in a graphic\n",
    "    if q is not None and errorbar is not None: # when quantile and errorbar are given it's possibleto calulate an errorbar\n",
    "        plt.plot(dom, poly_out,label='y={:.3}x+{:.2}, quantile{:.2}'.format(poly_coef[0],poly_coef[1],q))\n",
    "        plt.errorbar(dom,out,yerr=errorbar, label = 'quantile {:.2}'.format(q),capsize=4, marker = 'o')\n",
    "    else: \n",
    "        plt.plot(dom, poly_out,label='y={:.3}x+{:.2}, mean'.format(poly_coef[0],poly_coef[1]))\n",
    "    \n",
    "    return poly_coef # returning the values of linear coeficcients\n"
   ]
  },
  {
   "cell_type": "code",
   "execution_count": null,
   "id": "cc29dc7a",
   "metadata": {},
   "outputs": [],
   "source": [
    "\n",
    "def log_log_plot(q,dom, A, alpha=0.01):\n",
    "    absA, sortedAbs, meanA, median = treat_this_data(A)\n",
    "\n",
    "    logAbs    = np.log(absA)/np.log(2)\n",
    "    logquantile = np.quantile(logAbs, q, 1)\n",
    "    logmean   = np.log(meanA)/np.log(2)\n",
    "    logmedian = np.log(median)/np.log(2)\n",
    "\n",
    "    errorbar = confidence_level(q,sortedAbs,alpha)\n",
    "    errorbar_median = confidence_level(0.5, sortedAbs,alpha)\n",
    "\n",
    "    quantile_coef = linear_regression(dom,logquantile,q,errorbar)\n",
    "    median_coef = linear_regression(dom,logmedian,0.5,errorbar_median)\n",
    "    mean_coef = linear_regression(dom,logmean)\n",
    "\n",
    "    print(\" ---- diffusion constant is approximally %s using quantile %s ----\" % (quantile_coef[0],q))\n",
    "    print(\" ---- diffusion constant is approximally %s median ----\" % (median_coef[0]))\n",
    "    print(\" ---- diffusion constant is approximally %s mean ----\" % (mean_coef[0]))\n",
    "    \n",
    "    plt.legend(fontsize=12)\n",
    "    plt.show()  "
   ]
  },
  {
   "cell_type": "code",
   "execution_count": null,
   "id": "85dd182f",
   "metadata": {},
   "outputs": [
    {
     "name": "stderr",
     "output_type": "stream",
     "text": [
      "5it [00:07,  1.43s/it]\n",
      "/tmp/ipykernel_5445/4246443390.py:5: RuntimeWarning: divide by zero encountered in log\n",
      "  logAbs    = np.log(absA)/np.log(2)\n"
     ]
    },
    {
     "name": "stdout",
     "output_type": "stream",
     "text": [
      "\n",
      "\n",
      "--- 7.144580364227295 seconds ---\n",
      "\n",
      "\n",
      " ---- diffusion constant is approximally 0.4796741238531865 using quantile 0.55 ----\n",
      " ---- diffusion constant is approximally 0.3614709844115206 median ----\n",
      " ---- diffusion constant is approximally 0.5726725221928409 mean ----\n"
     ]
    },
    {
     "data": {
      "image/png": "[encoded data removed]",
      "text/plain": [
       "<Figure size 640x480 with 1 Axes>"
      ]
     },
     "metadata": {},
     "output_type": "display_data"
    }
   ],
   "source": [
    "\n",
    "# Example of use\n",
    "k1 = 5\n",
    "k2 = 9\n",
    "Numbsimul = 25\n",
    "A = full_data_random_walk(k1,k2, Numbsimul)\n",
    "\n",
    "q = 0.55\n",
    "dom = np.arange(k1,k2+1)\n",
    "log_log_plot(q,dom,A)"
   ]
  }
 ],
 "metadata": {
  "kernelspec": {
   "display_name": "randomwalk_envir_local",
   "language": "python",
   "name": "python3"
  },
  "language_info": {
   "codemirror_mode": {
    "name": "ipython",
    "version": 3
   },
   "file_extension": ".py",
   "mimetype": "text/x-python",
   "name": "python",
   "nbconvert_exporter": "python",
   "pygments_lexer": "ipython3",
   "version": "3.9.2"
  }
 },
 "nbformat": 4,
 "nbformat_minor": 5
}
