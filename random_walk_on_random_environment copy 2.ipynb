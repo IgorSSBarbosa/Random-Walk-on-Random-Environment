{
 "cells": [
  {
   "cell_type": "markdown",
   "metadata": {},
   "source": [
    "# Random walk on a Random invironment\n",
    "\n",
    "Let $\\mathbb{Z}$ be the set of integers, we are goint to define a **Simple Exclusion Process** $X_t$ on $\\mathbb{Z}$ in order  to define a random environment and above that another particle will do **Random walk** over this random environment.\n",
    "\n",
    "In time $t=0$ for each $i \\in \\mathbb{Z}$ is drawn independently from a Bernoulli $\\frac{1}{2}$ distribution to define if there is a particle in position $i$ or if there is no particle in that place. When times passes from $t=0$ to $t=1$, the environment changes with the following rule.\n",
    "\n",
    "- $s$ is draw from a *Poisson* distribution of mean $v$ (v menas the velocity of the environment).\n",
    "- $s$ particles are chosen (with reposition) to move, the order that we chose the particles to move matters.\n",
    "- For each particle *to move*, if the postion of the particle is $i$ then the new position of that particle is $i-1$ or $i+1$ with the same probability, but the particle only moves to that new postion with there is no other particle occuping the same space.\n",
    "\n",
    "Between the interchanges of the environment it is done a (discrete) **Random walk**.\n",
    "\n",
    "- The random walk starts at position $0$.\n",
    "- If the random walk is in a position where there is a particle, then the random walk has a *right drift*, that means the probability of the random walk to go to the right neighbor is $2/3$ and the probability to go to the left neighbor is $1/3$.\n",
    "- Otherwise the random walk is in a position without particle and there is a *left drift*, that means the probabilty to go to left is $2/3$ and the probability to go the right is $1/3$.\n",
    "\n",
    "Remark: the random walk does no affect the moviment of the environment particles,"
   ]
  },
  {
   "cell_type": "markdown",
   "metadata": {},
   "source": [
    "The main goal of the following code is to simulate an box of this process and try to estimate the coefficient of diffusion of this process.\n",
    "\n",
    "Is somehow believied that $\\mathbb{E}|X_t|\\sim a_0 n^\\gamma$, we call this coefficient $\\gamma$ *coefficient of diffusion*."
   ]
  },
  {
   "cell_type": "markdown",
   "metadata": {},
   "source": [
    "**Update:**\n",
    "\n",
    "In the last version I was sampling the (random) environment as a sequence of (L) zeros and ones (one means particle and zero means no particle).\n",
    "Now I gonna sample differently, sample a vector(named 'space_env') with (lenght = L/2) indexes (sorted increasing), for each index(e.g. space_ev = [0,1,4,7,9,10] ) in that vector meant to has a particle in that location (e.g. the first particle is at position 0 and last one is at position 10)"
   ]
  },
  {
   "cell_type": "code",
   "execution_count": 1,
   "metadata": {},
   "outputs": [
    {
     "name": "stdout",
     "output_type": "stream",
     "text": [
      "[1 2 5 7 8]\n"
     ]
    }
   ],
   "source": [
    "import random\n",
    "import numpy as np\n",
    "import matplotlib.pyplot as plt\n",
    "import time\n",
    "from tqdm import tqdm\n",
    "from scipy.stats import bernoulli\n",
    "\n",
    "# random.seed(168)\n",
    "\n",
    "#defining parameters\n",
    "\n",
    "L = 10      # number of size space simulated\n",
    "mu = 1/2    # proportion of environment particles\n",
    "\n",
    "\n",
    "def space_env(L , mu):\n",
    "    total_space = np.arange(L)\n",
    "    space = np.random.choice(total_space, int(L/2), replace=False)  # choose L/2 of the bins to contain a particle\n",
    "    return(np.sort(space))                                          # return the index of the particles sorted\n",
    "\n",
    "test = space_env(L,mu)\n",
    "print(test)"
   ]
  },
  {
   "cell_type": "markdown",
   "metadata": {},
   "source": [
    "\n",
    "The function bellow tells how the particle moves, and takes as input `space`, an *sorted increasing* array of particle positions and updates the positions of the particles according with the particle movements.\n",
    "\n",
    "**Remark:** the output of `move_particle` is always a cyclical permutation of a *sorted increasing* array (not necessarily the input one)."
   ]
  },
  {
   "cell_type": "code",
   "execution_count": 2,
   "metadata": {},
   "outputs": [
    {
     "name": "stdout",
     "output_type": "stream",
     "text": [
      "[0 1 5 6]\n",
      "[0 1 3 6]\n"
     ]
    }
   ],
   "source": [
    "\n",
    "def move_particle(space, s):\n",
    "    #Moves s particles to a neighboring site if that new position is empty\n",
    "    L = int(2*len(space))\n",
    "    particles_index = np.arange(int(L/2))\n",
    "    particles_to_move = np.random.choice(particles_index,s)\n",
    "    \n",
    "    # Pick a random direction  for each step (left or right)\n",
    "    direction = np.random.choice([-1, 1], s)\n",
    "    \n",
    "    # this is a torus, if the particle at L-1 jumps to right it goes to 0, and vice-versa\n",
    "    for idx_atual, dir_particle in zip(particles_to_move, direction):\n",
    "        # Check if the new position is empty (no particle present)\n",
    "        # Since we are in Z, the order of partiles is never changed, \n",
    "        # therefore it's enough to check if new_postition is equal to position of next particle.\n",
    "        if ((space[idx_atual] + dir_particle)% L  ) != ((space[(idx_atual + dir_particle)%(int(L/2))])%L):\n",
    "            # Move the particle\n",
    "            space[idx_atual] = (space[idx_atual] + dir_particle)%L\n",
    "\n",
    "space = space_env(8, 1/2)\n",
    "print(space)\n",
    "move_particle(space, 8)\n",
    "print(space)\n",
    "\n",
    "\n"
   ]
  },
  {
   "cell_type": "markdown",
   "metadata": {},
   "source": [
    "The next function takes as input `(space,a)`\n",
    "- `space` is the array of integers containing the positions of all environment particles.\n",
    "- `a` is an integer representing a position oof the space\n",
    "\n",
    "The output of `search_in_totated_array(space,a)` is a boolean that answers if `a`belong to `space` or not. \n",
    "It's  an adaptation of binary search on a sorted list, it only works, because `space`it is not a sorted list, but it is a cyclic permutation of a sorted list, and this only happens in dimension one.\n"
   ]
  },
  {
   "cell_type": "code",
   "execution_count": 5,
   "metadata": {},
   "outputs": [
    {
     "name": "stdout",
     "output_type": "stream",
     "text": [
      "[0 1 6 7 8]\n",
      "1\n",
      "True\n"
     ]
    }
   ],
   "source": [
    "def search_in_rotated_array(space, a)-> bool: # This is an adaptation of binary search that decides wheter a belongs to space or not\n",
    "    left, right = 0, len(space) - 1 \n",
    "\n",
    "    while left <= right:\n",
    "        mid = (left + right) // 2\n",
    "\n",
    "        if space[mid] == a:\n",
    "            return True  # Found the element\n",
    "\n",
    "        # Determine which side is properly sorted\n",
    "        if space[left] <= space[mid]:  # Left half is sorted\n",
    "            if space[left] <= a < space[mid]:  # Target in left half\n",
    "                right = mid - 1\n",
    "            else:  # Target in right half\n",
    "                left = mid + 1\n",
    "        else:  # Right half is sorted\n",
    "            if space[mid] < a <= space[right]:  # Target in right half\n",
    "                left = mid + 1\n",
    "            else:  # Target in left half\n",
    "                right = mid - 1\n",
    "\n",
    "    return False  # Element not found\n",
    "\n",
    "L=10\n",
    "space = space_env(L, 1/2)\n",
    "rw = np.random.choice(np.arange(L))\n",
    "print(space)\n",
    "print(rw)\n",
    "print(search_in_rotated_array(space,rw))"
   ]
  },
  {
   "cell_type": "code",
   "execution_count": null,
   "metadata": {},
   "outputs": [
    {
     "name": "stdout",
     "output_type": "stream",
     "text": [
      "-2\n"
     ]
    }
   ],
   "source": [
    "\n",
    "'''Random Walk'''\n",
    "\n",
    "\n",
    "def random_walk_step(space , rw , right_drift, left_drift):\n",
    "    \n",
    "    if search_in_rotated_array(space,rw): # in blue particles there is a right shift\n",
    "        direction = bernoulli.rvs(right_drift)  # sample 1 with prob 1/3 and 0 with probability 2/3 \n",
    "        direction = 2*direction -1              # change bernoulli(0,1) to bernoulli(-1,+1)\n",
    "        rw = rw + direction\n",
    "        # print(direction)\n",
    "        return(rw)\n",
    "    \n",
    "    else :# in red particles there is a left shift\n",
    "        direction = bernoulli.rvs(left_drift)   # sample 1 with prob 2/3 and 0 with probability 1/3 \n",
    "        direction = 2*direction -1              # change bernoulli(0,1) to bernoulli(-1,+1)\n",
    "        rw = rw + direction\n",
    "        # print(direction)\n",
    "        return(rw)\n",
    "\n",
    "\n",
    "def random_walk(L,v,t,mu , right_drift, left_drift): \n",
    "    # L means size of lattice,\n",
    "    # v is the velocity of the environment particles, \n",
    "    # t is the number of steps of RW, \n",
    "    # mu is the proportion of particlesin the environment.\n",
    "\n",
    "    rw = 0 # random walk starts at zero\n",
    "    \n",
    "    space = space_env(L, mu)\n",
    "    # print(space)\n",
    "    numb_particle = len(np.where(space)[0])\n",
    "\n",
    "    for t0 in range(t):\n",
    "        s = np.random.poisson(numb_particle*v)\n",
    "\n",
    "        move_particle(space , s)\n",
    "        rw = random_walk_step(space,rw,right_drift,left_drift)\n",
    "    return(rw)\n",
    "\n",
    "rw = random_walk(20, 1, 10 , 0.5 , 2/3 , 1/3)\n",
    "print(rw)\n"
   ]
  },
  {
   "cell_type": "code",
   "execution_count": 68,
   "metadata": {},
   "outputs": [
    {
     "name": "stderr",
     "output_type": "stream",
     "text": [
      "4it [00:00, 45.93it/s]"
     ]
    },
    {
     "name": "stdout",
     "output_type": "stream",
     "text": [
      "\n",
      "\n",
      "--- 0.08912134170532227 seconds ---\n",
      "[[ 0.  0.  0.  0.  0.  2.  0.  0.  2.  2.]\n",
      " [ 0. -2. -4.  0.  2.  0.  0. -4.  2.  2.]\n",
      " [ 0.  2.  6. -2.  4. -2. 12.  6.  2.  2.]\n",
      " [ 2.  0.  0.  0. -6.  0.  8.  4. 12.  2.]]\n"
     ]
    },
    {
     "name": "stderr",
     "output_type": "stream",
     "text": [
      "\n"
     ]
    }
   ],
   "source": [
    "\n",
    "def generate_data(Numbsimul,L,v,t,mu,right_drift,left_drift):\n",
    "    # L,v,t,mu  are exactly thte same parameters used in random_walk\n",
    "    # N is the number of simulations made\n",
    "    # data = []\n",
    "    # for i in range(Numbsimul):\n",
    "    #     data.append(random_walk(L,v,t,mu))\n",
    "    data = np.array([random_walk(L,v,t,mu,right_drift,left_drift) for i in range(Numbsimul)])\n",
    "    return(data)\n",
    "\n",
    "\n",
    "# data = generate_data(150 , 50 , 1 , 50, 0.5)\n",
    "# print(data)\n",
    "# import time\n",
    "\n",
    "\n",
    "\n",
    "def full_data_random_walk(k1,k2,Numbsimul,v,mu,right_drift,left_drift):\n",
    "# k_1 is the minum size simulation and k2 is biggest \n",
    "    if k2<=k1:\n",
    "        print('------------k2 must be bigger than k1-----------')\n",
    "        return('error')\n",
    "\n",
    "    start_time = time.time()\n",
    "\n",
    "\n",
    "    # progress_bar(-k1, k2-k1-1, prefix='Progress:', suffix = k2, length=30)\n",
    "    # (L,v,t,mu) are exactly the same parameters used in random walk\n",
    "    \n",
    "\n",
    "    data = np.zeros((k2+1-k1, Numbsimul))\n",
    "\n",
    "    for i, k in tqdm(enumerate(range(k1, k2+1))):\n",
    "        n = pow(2,k)\n",
    "        data[i,:] = np.array(generate_data(Numbsimul,n,v, n,mu,right_drift,left_drift))\n",
    "        #print(data_for_n)\n",
    "        #data.append(data_for_n)\n",
    "        #progress_bar(k, k2, prefix='Progress:', suffix = k2, length=30)\n",
    "    print('\\n')\n",
    "    print(\"--- %s seconds ---\" % (time.time() - start_time))\n",
    "\n",
    "    return(data)\n",
    "\n",
    "A = full_data_random_walk(3,6, 10, 1,0.5,1/3,2/3)\n",
    "print(A)\n"
   ]
  },
  {
   "cell_type": "code",
   "execution_count": 61,
   "metadata": {},
   "outputs": [
    {
     "name": "stderr",
     "output_type": "stream",
     "text": [
      "2it [00:44, 22.10s/it]"
     ]
    },
    {
     "name": "stdout",
     "output_type": "stream",
     "text": [
      "\n",
      "\n",
      "--- 44.19863557815552 seconds ---\n"
     ]
    },
    {
     "name": "stderr",
     "output_type": "stream",
     "text": [
      "\n"
     ]
    }
   ],
   "source": [
    "\n",
    "\n",
    "# taking absolute value of S_n, sorting the samples, calculate mean and median.\n",
    "def treat_this_data(A):\n",
    "    absA = np.abs(A)\n",
    "    sortedAbs = np.sort(absA)\n",
    "    meanA = absA.mean(1)\n",
    "    median = np.quantile(absA, 0.5 , 1)\n",
    "    return (absA,sortedAbs,meanA, median)\n",
    "\n",
    "\n",
    "\n",
    "k1 = 9\n",
    "k2 = 10\n",
    "\n",
    "A = full_data_random_walk(k1,k2, 125, 1,0.5,1/3,2/3)\n",
    "\n",
    "# Size = np.linspace(k1,k2, k2-k1+1)\n",
    "# linear_regression(0.5,Size,A)"
   ]
  },
  {
   "cell_type": "code",
   "execution_count": 62,
   "metadata": {},
   "outputs": [],
   "source": [
    "\n",
    "import scipy\n",
    "from scipy.stats import norm\n",
    "\n",
    "\n",
    "# random.seed(1998)\n",
    "\n",
    "# calculating the interval of confidence\n",
    "alpha = 0.1 # confidence level\n",
    "\n",
    "def confidence_level(logq, size, sortedAbs, numbsimul):\n",
    "    lowerboundindex = [int(np.floor(0.5*(numbsimul - np.sqrt(numbsimul)*norm.isf(alpha)))) for i in range(size)]\n",
    "    upperboundindex = [int(np.ceil(0.5*(numbsimul + np.sqrt(numbsimul)*norm.isf(alpha)))) for i in range(size)]\n",
    "    \n",
    "    lowerboundheight = sortedAbs[np.arange(size),lowerboundindex]\n",
    "    upperboundheight = sortedAbs[np.arange(size),upperboundindex]\n",
    "    loglower = np.log(lowerboundheight)/np.log(2)\n",
    "    logupper = np.log(upperboundheight)/np.log(2)\n",
    "\n",
    "    errorbar = [np.abs(loglower-logq), np.abs(logupper-logq)]\n",
    "    return errorbar\n",
    "\n",
    "\n",
    "# calculating the linear regression of log map\n",
    "def linear_regression(q, Size, A):\n",
    "    B = treat_this_data(A)\n",
    "    numbsimul = len(A[0]) #the number of simulations is the same for all sizes of simulations\n",
    "\n",
    "    absA = B[0]\n",
    "    sortedAbs = B[1]\n",
    "    meanA = B[2]\n",
    "    median = B[3]\n",
    "    \n",
    "    quantile = np.quantile(absA, q, 1)\n",
    "\n",
    "    logquantile = np.log(quantile)/np.log(2)\n",
    "    logmean = np.log(meanA)/np.log(2)\n",
    "    logmedian = np.log(median)/np.log(2)\n",
    "\n",
    "    poly = np.polyfit(Size, logquantile, 1)\n",
    "    pmean = np.polyfit(Size, logmean, 1)\n",
    "    pmedian = np.polyfit(Size, logmedian, 1)\n",
    "\n",
    "    print(\" ---- diffusion constant is approximally %s using quantile %s ----\" % (poly[0],q))\n",
    "\n",
    "    errorbar = confidence_level(logquantile, len(Size), sortedAbs, numbsimul)\n",
    "    plt.errorbar(Size,logquantile,yerr=errorbar, label = 'quantile {:.2}'.format(q),capsize=4, marker = 'o')\n",
    "    plt.plot(Size, pmedian[1]+pmedian[0]*Size, label='y={:.3}x+{:.2}, median'.format(pmedian[0],pmedian[1]))\n",
    "    plt.plot(Size, poly[1]+poly[0]*Size, label='y={:.3}x+{:.2}, quantile {:.2}'.format(poly[0],poly[1],q))\n",
    "    plt.plot(Size, pmean[1]+pmean[0]*Size, label='y={:.3}x+{:.2}, mean'.format(pmean[0],pmean[1]))\n",
    "\n",
    "    plt.legend(fontsize=12)\n",
    "    plt.show()  "
   ]
  },
  {
   "cell_type": "code",
   "execution_count": 70,
   "metadata": {},
   "outputs": [
    {
     "name": "stderr",
     "output_type": "stream",
     "text": [
      "6it [02:41, 26.91s/it]"
     ]
    },
    {
     "name": "stdout",
     "output_type": "stream",
     "text": [
      "\n",
      "\n",
      "--- 161.4815378189087 seconds ---\n",
      " ---- diffusion constant is approximally 0.585015979685401 using quantile 0.5 ----\n"
     ]
    },
    {
     "name": "stderr",
     "output_type": "stream",
     "text": [
      "\n"
     ]
    },
    {
     "data": {
      "image/png": "[encoded data removed]",
      "text/plain": [
       "<Figure size 640x480 with 1 Axes>"
      ]
     },
     "metadata": {},
     "output_type": "display_data"
    }
   ],
   "source": [
    "k1 = 4\n",
    "k2 = 9\n",
    "\n",
    "A = full_data_random_walk(k1,k2, 1250, 1,0.5, 1/3,2/3)\n",
    "\n",
    "Size = np.linspace(k1,k2, k2-k1+1)\n",
    "linear_regression(0.5,Size,A)"
   ]
  }
 ],
 "metadata": {
  "kernelspec": {
   "display_name": "randomwalk_envir_local",
   "language": "python",
   "name": "python3"
  },
  "language_info": {
   "codemirror_mode": {
    "name": "ipython",
    "version": 3
   },
   "file_extension": ".py",
   "mimetype": "text/x-python",
   "name": "python",
   "nbconvert_exporter": "python",
   "pygments_lexer": "ipython3",
   "version": "3.9.2"
  }
 },
 "nbformat": 4,
 "nbformat_minor": 2
}
